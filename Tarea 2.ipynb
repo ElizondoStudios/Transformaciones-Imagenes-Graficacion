{
 "cells": [
  {
   "cell_type": "markdown",
   "metadata": {},
   "source": [
    "# Tarea 2 Reporte"
   ]
  },
  {
   "cell_type": "markdown",
   "metadata": {},
   "source": []
  },
  {
   "cell_type": "markdown",
   "metadata": {},
   "source": [
    "## Importaciones"
   ]
  },
  {
   "cell_type": "code",
   "execution_count": 2,
   "metadata": {},
   "outputs": [],
   "source": [
    "from Imagen import info_imagen\n",
    "import pandas as pd\n",
    "from tabulate import tabulate\n",
    "import numpy as np"
   ]
  },
  {
   "cell_type": "markdown",
   "metadata": {},
   "source": [
    "## Imágenes Originales"
   ]
  },
  {
   "cell_type": "code",
   "execution_count": 3,
   "metadata": {},
   "outputs": [],
   "source": [
    "Imagenes= [\"caballo.jpg\", \"campana.jpg\", \"elefante.jpg\", \"manzana.jpg\", \"murcielago.jpg\", \"pato.jpg\", \"perro.jpg\", \"pollo.jpg\", \"rana.jpg\", \"tortuga.jpg\"]\n"
   ]
  },
  {
   "cell_type": "markdown",
   "metadata": {},
   "source": [
    "### Información de las Imágenes\n",
    "La cantidad de pixeles de la imágen, así como los centros de masa y las invariantes $\\mu_{pq}, \\eta_{pq}, \\phi_{1}, \\phi_{2}, \\phi_{3}$ se obtienen utilizando el módulo `Imagen.py`.\n",
    "Para obtener la imágen en su formato binario, abrimos la imágen en formato RGB usando la librería `PIL`. Posteriormente, hacemos uso de un *threshold* binarizar cada pixel."
   ]
  },
  {
   "cell_type": "code",
   "execution_count": 4,
   "metadata": {},
   "outputs": [
    {
     "name": "stdout",
     "output_type": "stream",
     "text": [
      "Unexpected exception formatting exception. Falling back to standard exception\n"
     ]
    },
    {
     "name": "stderr",
     "output_type": "stream",
     "text": [
      "Traceback (most recent call last):\n",
      "  File \"c:\\dev\\Transformaciones-Imagenes-Graficacion\\.venv\\Lib\\site-packages\\IPython\\core\\interactiveshell.py\", line 3549, in run_code\n",
      "    exec(code_obj, self.user_global_ns, self.user_ns)\n",
      "  File \"C:\\Users\\car20\\AppData\\Local\\Temp\\ipykernel_31700\\1946076225.py\", line 1, in <module>\n",
      "    info= [info_imagen(f\"./Dataset/{img}\") for img in Imagenes]\n",
      "          ^^^^^^^^^^^^^^^^^^^^^^^^^^^^^^^^^^^^^^^^^^^^^^^^^^^^^\n",
      "  File \"C:\\Users\\car20\\AppData\\Local\\Temp\\ipykernel_31700\\1946076225.py\", line 1, in <listcomp>\n",
      "    info= [info_imagen(f\"./Dataset/{img}\") for img in Imagenes]\n",
      "           ^^^^^^^^^^^^^^^^^^^^^^^^^^^^^^^\n",
      "  File \"c:\\dev\\Transformaciones-Imagenes-Graficacion\\Imagen.py\", line 122, in info_imagen\n",
      "    \"eta_00\": round(calcular_eta(pixel_matriz, 0, 0), 5),\n",
      "                    ^^^^^^^^^^^^^^^^^^^^^^^^^^^^^^^^\n",
      "  File \"c:\\dev\\Transformaciones-Imagenes-Graficacion\\Imagen.py\", line 68, in calcular_eta\n",
      "    eta = calcular_miu(matriz, p, q) / pow((calcular_miu(matriz, 0, 0)), (((p + q) / 2) + 1))\n",
      "                                            ^^^^^^^^^^^^^^^^^^^^^^^^^^\n",
      "  File \"c:\\dev\\Transformaciones-Imagenes-Graficacion\\Imagen.py\", line 56, in calcular_miu\n",
      "    centro_masa_x, centro_masa_y = calcular_centros_masa(matriz)\n",
      "                                   ^^^^^^^^^^^^^^^^^^^^^^^^^^^^^\n",
      "  File \"c:\\dev\\Transformaciones-Imagenes-Graficacion\\Imagen.py\", line None, in calcular_centros_masa\n",
      "KeyboardInterrupt\n",
      "\n",
      "During handling of the above exception, another exception occurred:\n",
      "\n",
      "Traceback (most recent call last):\n",
      "  File \"c:\\dev\\Transformaciones-Imagenes-Graficacion\\.venv\\Lib\\site-packages\\IPython\\core\\interactiveshell.py\", line 2173, in showtraceback\n",
      "    stb = self.InteractiveTB.structured_traceback(\n",
      "          ^^^^^^^^^^^^^^^^^^^^^^^^^^^^^^^^^^^^^^^^\n",
      "  File \"c:\\dev\\Transformaciones-Imagenes-Graficacion\\.venv\\Lib\\site-packages\\IPython\\core\\ultratb.py\", line 1182, in structured_traceback\n",
      "    return FormattedTB.structured_traceback(\n",
      "           ^^^^^^^^^^^^^^^^^^^^^^^^^^^^^^^^^\n",
      "  File \"c:\\dev\\Transformaciones-Imagenes-Graficacion\\.venv\\Lib\\site-packages\\IPython\\core\\ultratb.py\", line 1053, in structured_traceback\n",
      "    return VerboseTB.structured_traceback(\n",
      "           ^^^^^^^^^^^^^^^^^^^^^^^^^^^^^^^\n",
      "  File \"c:\\dev\\Transformaciones-Imagenes-Graficacion\\.venv\\Lib\\site-packages\\IPython\\core\\ultratb.py\", line 861, in structured_traceback\n",
      "    formatted_exceptions: list[list[str]] = self.format_exception_as_a_whole(\n",
      "                                            ^^^^^^^^^^^^^^^^^^^^^^^^^^^^^^^^^\n",
      "  File \"c:\\dev\\Transformaciones-Imagenes-Graficacion\\.venv\\Lib\\site-packages\\IPython\\core\\ultratb.py\", line 773, in format_exception_as_a_whole\n",
      "    frames.append(self.format_record(record))\n",
      "                  ^^^^^^^^^^^^^^^^^^^^^^^^^^\n",
      "  File \"c:\\dev\\Transformaciones-Imagenes-Graficacion\\.venv\\Lib\\site-packages\\IPython\\core\\ultratb.py\", line 536, in format_record\n",
      "    assert isinstance(frame_info.lineno, int)\n",
      "AssertionError\n"
     ]
    }
   ],
   "source": [
    "info= [info_imagen(f\"./Dataset/{img}\") for img in Imagenes]\n",
    "df= pd.DataFrame(data= info, index=Imagenes)"
   ]
  },
  {
   "cell_type": "markdown",
   "metadata": {},
   "source": [
    "### Tabla de Resultados"
   ]
  },
  {
   "cell_type": "code",
   "execution_count": null,
   "metadata": {},
   "outputs": [
    {
     "name": "stdout",
     "output_type": "stream",
     "text": [
      "+----------------+----------+--------------------+--------------------+----------+------------------+--------------------+--------+----------+---------+------------------+------------------------+------------------------+\n",
      "|                | pixeles  |   centro_masa_x    |   centro_masa_y    |  miu_00  |      miu_11      |       miu_22       | eta_00 |  eta_11  | eta_22  |      phi_1       |         phi_2          |         phi_3          |\n",
      "+----------------+----------+--------------------+--------------------+----------+------------------+--------------------+--------+----------+---------+------------------+------------------------+------------------------+\n",
      "|  caballo.jpg   | 121436.0 | 266.59657762113375 | 348.85396422807077 | 121436.0 | 1160637105.70753 | 58195623984252.59  |  1.0   |  0.0787  | 0.0325  | 4790589596.53919 | 8.105240018029279e+18  | 1.3669936896785868e+23 |\n",
      "|  campana.jpg   | 20495.0  | 142.71027079775556 | 125.43600878262991 | 20495.0  |  10857037.02015  | 56483670560.98092  |  1.0   | 0.02585  | 0.00656 |  77550471.41352  |   544262453296632.06   | 6.084530315586228e+18  |\n",
      "|  elefante.jpg  | 218038.0 |  320.354089654097  | 301.0451618525211  | 218038.0 | -779680918.72082 | 74860086798131.02  |  1.0   | -0.0164  | 0.00722 | 8965401803.79931 | 2.914923665710569e+18  | 6.182647890242567e+22  |\n",
      "|  manzana.jpg   | 28279.0  | 122.52936808232258 | 114.31210438841543 | 28279.0  |  -594445.20269   | 95371922339.19691  |  1.0   | -0.00074 | 0.00422 | 129523238.72647  |   2788282290721.033    | 8.329445598706148e+17  |\n",
      "| murcielago.jpg | 89600.0  | 304.0129799107143  | 302.94293526785714 | 89600.0  | 800457883.36629  | 23064767357634.684 |  1.0   | 0.09971  | 0.03206 | 2584578683.13231 | 2.567535094976122e+18  | 1.1785195517655314e+23 |\n",
      "|    pato.jpg    | 48954.0  | 125.94678677942558 | 188.95522327082568 | 48954.0  |  46792913.35662  | 1067578931095.9696 |  1.0   | 0.01953  | 0.0091  | 585642888.22898  | 6.064304829046698e+16  | 1.8789034895447084e+21 |\n",
      "|   perro.jpg    | 117304.0 | 236.25860158221374 | 320.57051762940733 | 117304.0 | -173166639.65229 | 10909117815486.773 |  1.0   | -0.01258 | 0.00676 | 3565443935.00043 | 4.0181303208131804e+18 | 3.901233285710665e+22  |\n",
      "|   pollo.jpg    | 69420.0  | 193.0346153846154  |  258.016724286949  | 69420.0  | -56180979.18846  | 3469859241429.369  |  1.0   | -0.01166 | 0.01037 | 1068773575.40233 |  8.08695808131137e+16  | 7.796578437869159e+21  |\n",
      "|    rana.jpg    | 41779.0  | 155.40728595705977 | 134.8282390674741  | 41779.0  |  50842944.68403  | 544861869435.62244 |  1.0   | 0.02913  | 0.00747 | 338565301.06569  | 1.2461049425896992e+16 | 2.5183149564518407e+20 |\n",
      "|  tortuga.jpg   | 25343.0  | 137.4153020557945  | 161.24089492167462 | 25343.0  |  32400786.58095  | 209888601740.1287  |  1.0   | 0.05045  | 0.01289 | 140525364.28237  |   7135946124652568.0   | 3.005264034882167e+18  |\n",
      "+----------------+----------+--------------------+--------------------+----------+------------------+--------------------+--------+----------+---------+------------------+------------------------+------------------------+\n"
     ]
    }
   ],
   "source": [
    "print(tabulate(df, headers='keys', tablefmt='pretty'))"
   ]
  },
  {
   "cell_type": "markdown",
   "metadata": {},
   "source": [
    "## Imágenes Escaladas\n",
    "Se ajustaron las imágenes utilizando un editor para que tengan aproximadamente 19,500 1-pixeles en una imágen de 250x250 pixeles\n",
    "Escalas utilizadas para cada imágen:\n",
    "\n",
    "| Imagen         | $\\alpha$ |\n",
    "| -------------- | -------- |\n",
    "| caballo.jpg    | 0.9754   |\n",
    "| campana.jpg    | 0.4007   |\n",
    "| elefante.jpg   | 0.2990   |\n",
    "| manzana.jpg    | 0.8303   |\n",
    "| murcielago.jpg | 0.4665   |\n",
    "| pato.jpg       | 0.6311   |\n",
    "| perro.jpg      | 0.4077   |\n",
    "| pollo.jpg      | 0.5299   |\n",
    "| rana.jpg       | 0.6831   |\n",
    "| tortuga.jpg    | 0.8771   |\n"
   ]
  },
  {
   "cell_type": "code",
   "execution_count": null,
   "metadata": {},
   "outputs": [],
   "source": [
    "Imagenes_Esc= [\"caballo_esc.jpg\", \"campana_esc.jpg\", \"elefante_esc.jpg\", \"manzana_esc.jpg\", \"murcielago_esc.jpg\", \"pato_esc.jpg\", \"perro_esc.jpg\", \"pollo_esc.jpg\", \"rana_esc.jpg\", \"tortuga_esc.jpg\"]\n",
    "info_esc= [info_imagen(f\"./Dataset_Escalado/{img}\") for img in Imagenes_Esc]\n",
    "df_esc= pd.DataFrame(data= info_esc, index=Imagenes_Esc)"
   ]
  },
  {
   "cell_type": "code",
   "execution_count": null,
   "metadata": {},
   "outputs": [
    {
     "name": "stdout",
     "output_type": "stream",
     "text": [
      "+--------------------+---------+--------------------+--------------------+---------+-----------------+--------------------+--------+----------+---------+-----------------+--------------------+------------------------+\n",
      "|                    | pixeles |   centro_masa_x    |   centro_masa_y    | miu_00  |     miu_11      |       miu_22       | eta_00 |  eta_11  | eta_22  |      phi_1      |       phi_2        |         phi_3          |\n",
      "+--------------------+---------+--------------------+--------------------+---------+-----------------+--------------------+--------+----------+---------+-----------------+--------------------+------------------------+\n",
      "|  caballo_esc.jpg   | 19519.0 | 120.16696552077462 | 138.27829294533532 | 19519.0 | 33134154.04329  | 256058752262.8203  |  1.0   | 0.08697  | 0.03443 | 123706553.17209 | 5411876325080607.0 | 1.4645964802452636e+19 |\n",
      "|  campana_esc.jpg   | 19504.0 | 139.80732157506154 | 122.93837161607875 | 19504.0 |  9852049.40053  | 48650753674.81947  |  1.0   |  0.0259  | 0.00656 | 70261743.83716  | 446965722186866.56 | 4.777091933602757e+18  |\n",
      "|  elefante_esc.jpg  | 19594.0 | 117.81417780953353 | 112.87781974073695 | 19594.0 | -6290332.85832  | 54389807250.86144  |  1.0   | -0.01638 | 0.00723 | 72439529.92186  | 190188701645486.38 |  3.62745488806565e+17  |\n",
      "|  manzana_esc.jpg   | 19482.0 | 120.27948875885433 | 113.56647161482394 | 19482.0 |  -256239.43794  | 31236099135.92147  |  1.0   | -0.00068 | 0.00422 | 61487717.60297  | 712028878578.1353  | 1.3562192280838219e+17 |\n",
      "| murcielago_esc.jpg | 19486.0 | 141.45078517910295 | 107.98588730370523 | 19486.0 | 37856628.96592  | 237291498971.93744 |  1.0   |  0.0997  | 0.03207 | 122246169.42199 | 5742983697385132.0 | 5.735569723082128e+19  |\n",
      "|    pato_esc.jpg    | 19406.0 | 136.0068020199938  | 106.03947232814593 | 19406.0 | 19133117.78965  | 113735718127.12556 |  1.0   | 0.05081  | 0.01556 | 92042478.86633  | 1501098949651400.5 |  1.83658936563161e+19  |\n",
      "|   perro_esc.jpg    | 19476.0 | 119.5731156294927  | 117.75970425138632 | 19476.0 | -27546222.81885 | 135095955765.65703 |  1.0   | -0.07262 | 0.01829 | 98349734.29924  | 3061789633719696.0 | 4.960463014606336e+18  |\n",
      "|   pollo_esc.jpg    | 19435.0 | 122.22644713146386 |  152.352508361204  | 19435.0 |  -4424594.3893  | 76235518972.92564  |  1.0   | -0.01171 | 0.01038 | 83857984.37139  | 505132686571211.25 | 1.3463212849233875e+19 |\n",
      "|    rana_esc.jpg    | 19502.0 | 137.50133319659523 | 119.57312070556866 | 19502.0 | 11076245.59886  | 55411898204.46675  |  1.0   | 0.02912  | 0.00747 | 73757864.69521  | 591173475248855.8  | 5.557778187348021e+18  |\n",
      "|  tortuga_esc.jpg   | 19511.0 | 115.58300445902312 | 132.16744400594536 | 19511.0 | 19196683.32443  | 95819165390.46944  |  1.0   | 0.05043  | 0.0129  | 83237569.28471  | 2500666455795712.0 | 8.130274629263826e+17  |\n",
      "+--------------------+---------+--------------------+--------------------+---------+-----------------+--------------------+--------+----------+---------+-----------------+--------------------+------------------------+\n"
     ]
    }
   ],
   "source": [
    "print(tabulate(df_esc, headers='keys', tablefmt='pretty'))"
   ]
  },
  {
   "cell_type": "code",
   "execution_count": 1,
   "metadata": {},
   "outputs": [],
   "source": [
    "from Imagen import binarizar_row, calcular_contorno\n",
    "from PIL import Image as IMG\n",
    "import numpy as np\n",
    "\n",
    "img = IMG.open('./Dataset/manzana.jpg')\n",
    "rgb_matriz = np.array(img)\n",
    "pixel_matriz = tuple(map(binarizar_row, rgb_matriz))\n",
    "\n",
    "calcular_contorno(pixel_matriz)"
   ]
  }
 ],
 "metadata": {
  "kernelspec": {
   "display_name": ".venv",
   "language": "python",
   "name": "python3"
  },
  "language_info": {
   "codemirror_mode": {
    "name": "ipython",
    "version": 3
   },
   "file_extension": ".py",
   "mimetype": "text/x-python",
   "name": "python",
   "nbconvert_exporter": "python",
   "pygments_lexer": "ipython3",
   "version": "3.11.8"
  }
 },
 "nbformat": 4,
 "nbformat_minor": 2
}
